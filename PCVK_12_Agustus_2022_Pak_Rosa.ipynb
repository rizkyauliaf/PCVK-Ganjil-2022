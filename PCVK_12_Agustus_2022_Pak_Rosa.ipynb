{
  "nbformat": 4,
  "nbformat_minor": 0,
  "metadata": {
    "colab": {
      "name": "PCVK 12 Agustus 2022 Pak Rosa.ipynb",
      "provenance": [],
      "authorship_tag": "ABX9TyOweiGE95LucWZ2O1MvamLL",
      "include_colab_link": true
    },
    "kernelspec": {
      "name": "python3",
      "display_name": "Python 3"
    },
    "language_info": {
      "name": "python"
    }
  },
  "cells": [
    {
      "cell_type": "markdown",
      "metadata": {
        "id": "view-in-github",
        "colab_type": "text"
      },
      "source": [
        "<a href=\"https://colab.research.google.com/github/rizkyauliaf/PCVK_Genap_2022/blob/main/PCVK_12_Agustus_2022_Pak_Rosa.ipynb\" target=\"_parent\"><img src=\"https://colab.research.google.com/assets/colab-badge.svg\" alt=\"Open In Colab\"/></a>"
      ]
    },
    {
      "cell_type": "code",
      "execution_count": null,
      "metadata": {
        "id": "11vjGqWYmNVs"
      },
      "outputs": [],
      "source": [
        ""
      ]
    }
  ]
}